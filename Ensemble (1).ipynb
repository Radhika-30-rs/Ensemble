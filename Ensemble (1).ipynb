{
  "nbformat": 4,
  "nbformat_minor": 0,
  "metadata": {
    "colab": {
      "provenance": []
    },
    "kernelspec": {
      "name": "python3",
      "display_name": "Python 3"
    },
    "language_info": {
      "name": "python"
    }
  },
  "cells": [
    {
      "cell_type": "markdown",
      "source": [
        "ques 1-Can we use Bagging for regression problems?\n",
        "\n",
        "AnswersYes, we can absolutely use Bagging for regression problems."
      ],
      "metadata": {
        "id": "951HQJ0soGsU"
      }
    },
    {
      "cell_type": "markdown",
      "source": [
        "ques 2-2 What is the difference between multiple model training and single model training\n",
        "\n",
        "AnswersSingle Model Training\n",
        "✅ What it is:\n",
        "You train one model on your dataset.\n",
        "\n",
        "✅ Characteristics:\n",
        "\n",
        "Uses entire training data for a single hypothesis function.\n",
        "\n",
        "Simpler pipeline, lower computational cost.\n",
        "\n",
        "Easier to interpret and deploy.\n",
        "\n",
        "Performance depends entirely on one model’s capacity and assumptions.\n",
        "\n",
        "Examples:\n",
        "\n",
        "Training a single Decision Tree on your dataset.\n",
        "\n",
        "Training a single Linear Regression model.\n",
        "\n",
        "✅ Pros:\n",
        "\n",
        "Simplicity.\n",
        "\n",
        "Less resource-intensive.\n",
        "\n",
        "Easier debugging and explainability.\n",
        "\n",
        "✅ Cons:\n",
        "\n",
        "High variance if the model is complex (overfitting).\n",
        "\n",
        "High bias if the model is simple (underfitting).\n",
        "\n",
        "Less robust to noise.\n",
        "\n",
        "2️⃣ Multiple Model Training (Ensemble)\n",
        "✅ What it is:\n",
        "You train multiple models (can be same type or different types) on your dataset and combine their predictions.\n",
        "\n",
        "✅ Types:\n",
        "\n",
        "Bagging: Training multiple models on different bootstrap samples and averaging (or voting) their predictions. Example: Random Forest.\n",
        "\n",
        "Boosting: Training models sequentially, each focusing on errors of the previous. Example: XGBoost, AdaBoost.\n",
        "\n",
        "Stacking: Combining different models’ predictions using another model.\n",
        "\n",
        "✅ Characteristics:\n",
        "\n",
        "Reduces variance (bagging).\n",
        "\n",
        "Reduces bias (boosting).\n",
        "\n",
        "Increases robustness to outliers/noise.\n",
        "\n",
        "Typically requires more computation and memory.\n",
        "\n",
        "✅ Pros:\n",
        "\n",
        "Generally improves accuracy over a single model.\n",
        "\n",
        "Reduces overfitting risk (in bagging).\n",
        "\n",
        "Can model complex patterns better.\n",
        "\n",
        "✅ Cons:\n",
        "\n",
        "Harder to interpret.\n",
        "\n",
        "More computationally expensive.\n",
        "\n",
        "Requires careful hyperparameter tuning and validation.\n",
        "\n"
      ],
      "metadata": {
        "id": "L9MQzQ-7oUta"
      }
    },
    {
      "cell_type": "markdown",
      "source": [
        "ques 3-**Explain the concept of feature randomness in Random Forest**\n",
        "\n",
        "Answer-Random Forest is an ensemble method that builds multiple Decision Trees and aggregates their predictions to improve accuracy and robustness.\n",
        "\n",
        "It introduces two main types of randomness:\n",
        "1️⃣ Data randomness (bagging): Using bootstrap samples for each tree.\n",
        "2️⃣ Feature randomness: Selecting a random subset of features at each split."
      ],
      "metadata": {
        "id": "wt-XGdWFrlAV"
      }
    },
    {
      "cell_type": "markdown",
      "source": [
        "ques 4-**What is OOB (Out-of-Bag) Score**\n",
        "\n",
        "Answer- Definition:\n",
        "OOB Score is a way to evaluate the performance of a Random Forest without using a separate validation set or cross-validation.\n",
        "\n",
        "It uses the data samples that were not included in the bootstrap sample (out-of-bag samples) for each tree to test its prediction accuracy.\n",
        "\n"
      ],
      "metadata": {
        "id": "R23OkvWhsGZx"
      }
    },
    {
      "cell_type": "markdown",
      "source": [
        "ques 5-** How can you measure the importance of features in a Random Forest model**\n",
        "\n",
        "Answer- Impurity-Based Feature Importance (Mean Decrease in Impurity, MDI)\n",
        "✅ Concept:\n",
        "\n",
        "Each Decision Tree in the forest uses features to split nodes.\n",
        "\n",
        "Each split reduces the impurity (e.g., Gini Impurity for classification or variance for regression).\n",
        "\n",
        "The reduction in impurity contributed by a feature across all trees is summed up and averaged.\n",
        "\n",
        "✅ Steps:\n",
        "\n",
        "For each split using feature\n",
        "𝑋\n",
        "𝑗\n",
        "X\n",
        "j\n",
        "​\n",
        "  in all trees:\n",
        "\n",
        "Compute the impurity decrease due to that split, weighted by the number of samples reaching the node.\n",
        "\n",
        "Sum these values for each feature across all trees.\n",
        "\n",
        "Normalize so the importances sum to 1.\n",
        "\n",
        "✅ Interpretation:\n",
        "\n",
        "Higher value = Feature is more important in reducing impurity during splits.\n",
        "\n",
        "Fast to compute, built into sklearn"
      ],
      "metadata": {
        "id": "-a3Fpu0xs2GE"
      }
    },
    {
      "cell_type": "markdown",
      "source": [
        "ques6-**Explain the working principle of a Bagging Classifier**\n",
        "\n",
        "Answer-A Bagging classifier is an ensemble meta-estimator that fits base classifiers each on random subsets of the original dataset and then aggregate their individual predictions (either by voting or by averaging) to form a final prediction."
      ],
      "metadata": {
        "id": "qcGzl9D-ta6Y"
      }
    },
    {
      "cell_type": "markdown",
      "source": [
        "ques 7-**2 How do you evaluate a Bagging Classifier’s performance**\n",
        "\n",
        "Answer1️⃣ Standard Evaluation Methods\n",
        "✅ a) Train-Test Split\n",
        "\n",
        "Split your dataset into training and test sets.\n",
        "\n",
        "Train the Bagging Classifier on the training set.\n",
        "\n",
        "Predict on the test set.\n",
        "\n",
        "Calculate evaluation metrics (Accuracy, Precision, Recall, F1-Score).\n",
        "\n",
        "✅ b) Cross-Validation\n",
        "\n",
        "Use k-fold cross-validation to:\n",
        "\n",
        "Split the dataset into k folds.\n",
        "\n",
        "Train on k-1 folds and validate on the remaining fold.\n",
        "\n",
        "Repeat k times and compute the average metric for a reliable performance estimate.\n",
        "\n",
        "✅ c) Confusion Matrix\n",
        "\n",
        "Visualize predictions to see:\n",
        "\n",
        "True Positives (TP)\n",
        "\n",
        "True Negatives (TN)\n",
        "\n",
        "False Positives (FP)\n",
        "\n",
        "False Negatives (FN)\n",
        "\n",
        "Helps identify class-wise performance and misclassifications.\n",
        "\n",
        "✅ d) ROC-AUC Score\n",
        "\n",
        "For binary classification:\n",
        "\n",
        "Evaluate model’s ability to distinguish between classes.\n",
        "\n",
        "Plot ROC curve and compute AUC value.\n",
        "\n",
        "2️⃣ Out-of-Bag (OOB) Score (Specific to Bagging)\n",
        "✅ Definition:\n",
        "\n",
        "As Bagging uses bootstrap sampling, ~37% of samples are not used for training each estimator (Out-of-Bag samples).\n",
        "\n",
        "These samples can be used to test the model internally without a separate validation set.\n",
        "\n",
        "✅ Usage:\n",
        "\n",
        "In sklearn, use oob_score=True in the BaggingClassifier.\n",
        "\n",
        "After fitting:\n",
        "\n",
        "python\n",
        "Copy\n",
        "Edit\n",
        "print(\"OOB Score:\", bagging.oob_score_)\n",
        "✅ Interpretation:\n",
        "\n",
        "This OOB score gives an unbiased estimate of the test accuracy and reduces the need for a separate validation split or cross-validation.\n",
        "\n",
        "3️⃣ Common Metrics for Evaluation\n",
        "Depending on your task, use:\n",
        "\n",
        "Classification:\n",
        "\n",
        "Accuracy\n",
        "\n",
        "Precision\n",
        "\n",
        "Recall\n",
        "\n",
        "F1-Score\n",
        "\n",
        "ROC-AUC\n",
        "\n",
        "Regression:\n",
        "\n",
        "Mean Squared Error (MSE)\n",
        "\n",
        "Mean Absolute Error (MAE)\n",
        "\n",
        "𝑅\n",
        "2\n",
        "R\n",
        "2\n",
        "  Score"
      ],
      "metadata": {
        "id": "qtmgHifFvO64"
      }
    },
    {
      "cell_type": "markdown",
      "source": [
        "ques 8-**How does a Bagging Regressor work**\n",
        "\n",
        "Answer- Key Idea\n",
        "Train multiple regressors on different bootstrap samples of your dataset.\n",
        "\n",
        "Combine their predictions by averaging to get the final prediction.\n",
        "\n",
        "2️⃣ Steps in Bagging Regressor\n",
        "Step 1: Bootstrap Sampling\n",
        "From a dataset with\n",
        "𝑁\n",
        "N samples:\n",
        "\n",
        "Create\n",
        "𝑀\n",
        "M bootstrap samples (sampling with replacement).\n",
        "\n",
        "Each bootstrap sample has\n",
        "𝑁\n",
        "N samples (some may repeat, some may be omitted).\n",
        "\n",
        "Step 2: Model Training\n",
        "For each bootstrap sample:\n",
        "\n",
        "Train one regressor (typically a Decision Tree Regressor).\n",
        "\n",
        "This results in\n",
        "𝑀\n",
        "M independently trained regressors.\n",
        "\n",
        "Step 3: Aggregation\n",
        "For a new input sample, each regressor predicts a numerical value.\n",
        "\n",
        "The final prediction is computed as the average of all predictions from the\n",
        "𝑀\n",
        "M regressors.\n",
        "\n",
        "3️⃣ Why Bagging Regressor Works\n",
        "✅ Reduces Variance:\n",
        "\n",
        "Models like Decision Trees can overfit the training data.\n",
        "\n",
        "Bagging averages their predictions, smoothing out noise.\n",
        "\n",
        "✅ Increases Stability:\n",
        "\n",
        "Less sensitive to small changes in the training data.\n",
        "\n",
        "✅ Parallelizable:\n",
        "\n",
        "Since models are trained independently, training is efficient on multi-core systems.\n"
      ],
      "metadata": {
        "id": "dgjG4jBcwEF3"
      }
    },
    {
      "cell_type": "markdown",
      "source": [
        "ques 9-**What is the main advantage of ensemble techniques**\n",
        "\n",
        "Answer-✅ The main advantage of ensemble techniques is:\n",
        "\n",
        "They improve the predictive performance of machine learning models by combining multiple models to reduce errors, improve accuracy, and enhance stability."
      ],
      "metadata": {
        "id": "TjhcnYkRwxo_"
      }
    },
    {
      "cell_type": "markdown",
      "source": [
        "ques 10-**2 What is the main challenge of ensemble methods**\n",
        "\n",
        "Answer-✅ The main challenge of ensemble methods is:\n",
        "\n",
        "They increase computational complexity and reduce interpretability, making models harder to understand and requiring more resources to train and deploy."
      ],
      "metadata": {
        "id": "yUY0hzDixYrQ"
      }
    },
    {
      "cell_type": "markdown",
      "source": [
        "ques 11-**2 Explain the key idea behind ensemble techniques**\n",
        "\n",
        "Answer-The key idea:\n",
        "\n",
        "Combine multiple models to create a stronger, more accurate, and robust model than any individual model."
      ],
      "metadata": {
        "id": "Xp5Nvqwhx3Kk"
      }
    },
    {
      "cell_type": "markdown",
      "source": [
        "ques 12-**2 What is a Random Forest Classifier**\n",
        "\n",
        "Answer-A Random Forest Classifier is an ensemble machine learning algorithm that uses multiple decision trees to classify data, combining their outputs to improve accuracy and reduce overfitting."
      ],
      "metadata": {
        "id": "Duhfw8J_yPw-"
      }
    },
    {
      "cell_type": "markdown",
      "source": [
        "ques 13-** What are the main types of ensemble techniques**\n",
        "\n",
        "Answer- Bagging (Bootstrap Aggregating)\n",
        "\n",
        " Stacking (Stacked Generalization)\n",
        "\n",
        " Boosting"
      ],
      "metadata": {
        "id": "l93uPFepyZgq"
      }
    },
    {
      "cell_type": "markdown",
      "source": [
        "ques 14-**What is ensemble learning in machine learning**\n",
        "\n",
        "Answer-Ensemble learning is a machine learning technique where multiple models (often called “weak learners” or “base learners”) are combined to solve the same problem to improve predictive performance compared to a single model."
      ],
      "metadata": {
        "id": "hIwDzy94yujL"
      }
    },
    {
      "cell_type": "markdown",
      "source": [
        "ques 15-**When should we avoid using ensemble methods**\n",
        "\n",
        "Answer-Ensemble methods, while powerful, may not always be the best choice. You should consider avoiding them when interpretability is paramount, computational resources are limited, or the base models are highly correlated or already very strong."
      ],
      "metadata": {
        "id": "OHJQUpY4y71i"
      }
    },
    {
      "cell_type": "markdown",
      "source": [
        "ques 16-**How does Bagging help in reducing overfitting**\n",
        "\n",
        "Answer-Bagging (Bootstrap Aggregating) reduces overfitting by averaging predictions from multiple high-variance models trained on different bootstrap samples, thereby reducing variance while maintaining low bias."
      ],
      "metadata": {
        "id": "ygpNve-y0RSf"
      }
    },
    {
      "cell_type": "markdown",
      "source": [
        "ques 17-**2 Why is Random Forest better than a single Decision Tree**\n",
        "\n",
        "Answer Random Forest improves accuracy, stability, and generalization compared to a single Decision Tree by reducing overfitting and variance using ensemble learning."
      ],
      "metadata": {
        "id": "FYrxY9aJ0g_3"
      }
    },
    {
      "cell_type": "markdown",
      "source": [
        "ques 18-**What is the role of bootstrap sampling in Bagging**\n",
        "\n",
        "Answer-Bootstrap sampling allows Bagging to train multiple diverse models by creating different random datasets from the original data, helping reduce variance and overfitting."
      ],
      "metadata": {
        "id": "P2HN_AOv0wEp"
      }
    },
    {
      "cell_type": "markdown",
      "source": [
        "ques 19-**What are some real-world applications of ensemble techniques**\n",
        "\n",
        "Answer-Finance\n",
        "\n",
        " Healthcare\n",
        "\n",
        "  E-commerce & Marketing\n"
      ],
      "metadata": {
        "id": "HpnOGAW51F5w"
      }
    },
    {
      "cell_type": "markdown",
      "source": [
        "ques 20-**2 What is the difference between Bagging and Boosting?**\n",
        "\n",
        "Answer-Bagging (Bootstrap Aggregating)\n",
        "✅ Key Points:\n",
        "\n",
        "Trains multiple base models independently on different bootstrap samples of the data.\n",
        "\n",
        "Combines predictions via averaging (regression) or voting (classification).\n",
        "\n",
        "Best suited for high-variance, low-bias models (e.g., Decision Trees).\n",
        "\n",
        "Example: Random Forest.\n",
        "\n",
        "✅ Goal:\n",
        "\n",
        "Reduce variance by averaging diverse models to improve stability.\n",
        "\n",
        " Boosting\n",
        "✅ Key Points:\n",
        "\n",
        "Trains models sequentially; each model tries to correct the errors of the previous one.\n",
        "\n",
        "Assigns higher weights to misclassified points, focusing the next model on these hard cases.\n",
        "\n",
        "Combines models using weighted voting/averaging.\n",
        "\n",
        "Best suited for reducing bias and variance.\n",
        "\n",
        "✅ Goal:\n",
        "\n",
        "Convert weak learners into a strong learner by focusing on errors iteratively.\n",
        "\n",
        "✅ Examples:\n",
        "\n",
        "AdaBoost: Increases weights of misclassified samples at each iteration.\n",
        "\n",
        "Gradient Boosting: Trains models to predict the residual errors from the previous model."
      ],
      "metadata": {
        "id": "NTX0wZBx1hQN"
      }
    },
    {
      "cell_type": "markdown",
      "source": [
        "Practical"
      ],
      "metadata": {
        "id": "UYS18lpB2JtI"
      }
    },
    {
      "cell_type": "markdown",
      "source": [
        "ques 21-**Train a Bagging Classifier using Decision Trees on a sample dataset and print model accuracy2**"
      ],
      "metadata": {
        "id": "jjwK9wLU1_84"
      }
    },
    {
      "cell_type": "code",
      "source": [
        "import numpy as np\n",
        "from sklearn.datasets import load_iris\n",
        "from sklearn.ensemble import BaggingClassifier\n",
        "from sklearn.tree import DecisionTreeClassifier\n",
        "\n",
        "# Load dataset\n",
        "iris = load_iris()\n",
        "X, y = iris.data, iris.target\n",
        "\n",
        "# Define Bagging Classifier with Decision Trees\n",
        "bagging_clf = BaggingClassifier(estimator=DecisionTreeClassifier(), n_estimators=100, random_state=42)\n",
        "\n",
        "# Train the model\n",
        "bagging_clf.fit(X, y)\n",
        "\n",
        "# Evaluate accuracy\n",
        "accuracy = bagging_clf.score(X, y)\n",
        "print(f\"Model accuracy: {accuracy:.2f}\")"
      ],
      "metadata": {
        "colab": {
          "base_uri": "https://localhost:8080/"
        },
        "id": "a4F3-JUF5dYU",
        "outputId": "d2810bfe-53be-4039-f11f-4fe4c6b164d6"
      },
      "execution_count": null,
      "outputs": [
        {
          "output_type": "stream",
          "name": "stdout",
          "text": [
            "Model accuracy: 1.00\n"
          ]
        }
      ]
    },
    {
      "cell_type": "markdown",
      "source": [
        "ques 22-Train a Bagging Regressor using Decision Trees and evaluate using Mean Squared Error (MSE)"
      ],
      "metadata": {
        "id": "1skp1ZEU3gei"
      }
    },
    {
      "cell_type": "code",
      "source": [
        "from sklearn.ensemble import BaggingRegressor\n",
        "from sklearn.metrics import mean_squared_error\n",
        "from sklearn.datasets import make_regression\n",
        "from sklearn.tree import DecisionTreeRegressor\n",
        "X_reg, y_reg = make_regression(n_samples=100, n_features=1, noise=0.1, random_state=42)\n",
        "bagging_reg = BaggingRegressor(estimator=DecisionTreeRegressor(), n_estimators=100, random_state=42)\n",
        "bagging_reg.fit(X_reg, y_reg)\n",
        "y_pred = bagging_reg.predict(X_reg)\n",
        "mse = mean_squared_error(y_reg, y_pred)\n",
        "print(f\"Mean Squared Error: {mse:.2f}\")"
      ],
      "metadata": {
        "colab": {
          "base_uri": "https://localhost:8080/"
        },
        "id": "P-6-sygN4LR6",
        "outputId": "ac327eac-adb7-4df0-f81b-da6253249da4"
      },
      "execution_count": null,
      "outputs": [
        {
          "output_type": "stream",
          "name": "stdout",
          "text": [
            "Mean Squared Error: 1.17\n"
          ]
        }
      ]
    },
    {
      "cell_type": "markdown",
      "source": [
        "ques23-Train a Random Forest Classifier on the Breast Cancer dataset and print feature importance scores."
      ],
      "metadata": {
        "id": "X-6Vw39x5zuK"
      }
    },
    {
      "cell_type": "code",
      "source": [
        "\n",
        "from sklearn.datasets import load_breast_cancer\n",
        "from sklearn.ensemble import RandomForestClassifier\n",
        "cancer = load_breast_cancer()\n",
        "X_cancer, y_cancer = cancer.data, cancer.target\n",
        "rf_clf = RandomForestClassifier(n_estimators=100, random_state=42)\n",
        "rf_clf.fit(X_cancer, y_cancer)\n",
        "feature_importances = rf_clf.feature_importances_\n",
        "print(\"Feature importances:\")\n",
        "for i, score in enumerate(feature_importances):\n",
        "    print(f\"Feature {i}: {score:.4f}\")\n"
      ],
      "metadata": {
        "colab": {
          "base_uri": "https://localhost:8080/"
        },
        "id": "7zJ0zK0u5peM",
        "outputId": "6e000235-0e3b-4d94-9a4c-37ec57fbfb82"
      },
      "execution_count": null,
      "outputs": [
        {
          "output_type": "stream",
          "name": "stdout",
          "text": [
            "Feature importances:\n",
            "Feature 0: 0.0348\n",
            "Feature 1: 0.0152\n",
            "Feature 2: 0.0680\n",
            "Feature 3: 0.0605\n",
            "Feature 4: 0.0080\n",
            "Feature 5: 0.0116\n",
            "Feature 6: 0.0669\n",
            "Feature 7: 0.1070\n",
            "Feature 8: 0.0034\n",
            "Feature 9: 0.0026\n",
            "Feature 10: 0.0143\n",
            "Feature 11: 0.0037\n",
            "Feature 12: 0.0101\n",
            "Feature 13: 0.0296\n",
            "Feature 14: 0.0047\n",
            "Feature 15: 0.0056\n",
            "Feature 16: 0.0058\n",
            "Feature 17: 0.0038\n",
            "Feature 18: 0.0035\n",
            "Feature 19: 0.0059\n",
            "Feature 20: 0.0828\n",
            "Feature 21: 0.0175\n",
            "Feature 22: 0.0808\n",
            "Feature 23: 0.1394\n",
            "Feature 24: 0.0122\n",
            "Feature 25: 0.0199\n",
            "Feature 26: 0.0373\n",
            "Feature 27: 0.1322\n",
            "Feature 28: 0.0082\n",
            "Feature 29: 0.0045\n"
          ]
        }
      ]
    },
    {
      "cell_type": "markdown",
      "source": [
        "ques 24-**2 Train a Random Forest Classifier on the Breast Cancer dataset and print feature importance scores2**"
      ],
      "metadata": {
        "id": "piiGgHtI6BdK"
      }
    },
    {
      "cell_type": "code",
      "source": [
        "from sklearn.ensemble import RandomForestRegressor\n",
        "from sklearn.metrics import mean_squared_error\n",
        "X_reg, y_reg = make_regression(n_samples=100, n_features=1, noise=0.1, random_state=42)\n",
        "rf_reg = RandomForestRegressor(n_estimators=100, random_state=42)\n",
        "rf_reg.fit(X_reg, y_reg)\n",
        "y_pred_rf = rf_reg.predict(X_reg)\n",
        "mse_rf = mean_squared_error(y_reg, y_pred_rf)\n",
        "dt_reg = DecisionTreeRegressor(random_state=42)\n",
        "dt_reg.fit(X_reg, y_reg)\n",
        "y_pred_dt = dt_reg.predict(X_reg)\n",
        "mse_dt = mean_squared_error(y_reg, y_pred_dt)\n",
        "print(f\"Random Forest MSE: {mse_rf:.2f}\")\n",
        "print(f\"Decision Tree MSE: {mse_dt:.2f}\")\n"
      ],
      "metadata": {
        "colab": {
          "base_uri": "https://localhost:8080/"
        },
        "id": "amnWMXVi5u35",
        "outputId": "6babd777-c36a-4927-b9d5-40f28ab5c0a1"
      },
      "execution_count": null,
      "outputs": [
        {
          "output_type": "stream",
          "name": "stdout",
          "text": [
            "Random Forest MSE: 1.17\n",
            "Decision Tree MSE: 0.00\n"
          ]
        }
      ]
    },
    {
      "cell_type": "markdown",
      "source": [
        "ques 25-**2 Train a Random Forest Regressor and compare its performance with a single Decision Tree**"
      ],
      "metadata": {
        "id": "b44BEdy36J65"
      }
    },
    {
      "cell_type": "code",
      "source": [
        "from sklearn.ensemble import RandomForestClassifier\n",
        "rf_clf_oob = RandomForestClassifier(n_estimators=100, oob_score=True, random_state=42)\n",
        "rf_clf_oob.fit(X_cancer, y_cancer)\n",
        "oob_score = rf_clf_oob.oob_score_\n",
        "print(f\"Out-of-Bag Score: {oob_score:.2f}\")"
      ],
      "metadata": {
        "colab": {
          "base_uri": "https://localhost:8080/"
        },
        "id": "Fa00W-TF6JGt",
        "outputId": "5ac15042-9ab2-4929-a754-9eb83bf6f2df"
      },
      "execution_count": null,
      "outputs": [
        {
          "output_type": "stream",
          "name": "stdout",
          "text": [
            "Out-of-Bag Score: 0.96\n"
          ]
        }
      ]
    },
    {
      "cell_type": "markdown",
      "source": [
        "ques 26-**Compute the Out-of-Bag (OOB) Score for a Random Forest Classifier2**"
      ],
      "metadata": {
        "id": "Biuy3kQ_6UOZ"
      }
    },
    {
      "cell_type": "code",
      "source": [
        "from sklearn.svm import SVC\n",
        "bagging_svc = BaggingClassifier(estimator=SVC(probability=True), n_estimators=100, random_state=42)\n",
        "bagging_svc.fit(X, y)\n",
        "accuracy_svc = bagging_svc.score(X, y)\n",
        "print(f\"Bagging SVM Model accuracy: {accuracy_svc:.2f}\")"
      ],
      "metadata": {
        "colab": {
          "base_uri": "https://localhost:8080/"
        },
        "id": "cBUFU-Ze6hZo",
        "outputId": "90181051-bcdd-4a9a-edae-cb5a931c25b6"
      },
      "execution_count": null,
      "outputs": [
        {
          "output_type": "stream",
          "name": "stdout",
          "text": [
            "Bagging SVM Model accuracy: 0.97\n"
          ]
        }
      ]
    },
    {
      "cell_type": "markdown",
      "source": [
        "ques 27-**Train a Random Forest Classifier with different numbers of trees and compare accuracy2**"
      ],
      "metadata": {
        "id": "tFQSYNfN7O57"
      }
    },
    {
      "cell_type": "code",
      "source": [
        "from sklearn.ensemble import RandomForestClassifier\n",
        "n_estimators_list = [10, 50, 100, 200]\n",
        "for n in n_estimators_list:\n",
        "    rf_clf = RandomForestClassifier(n_estimators=n, random_state=42)\n",
        "    rf_clf.fit(X_cancer, y_cancer)\n",
        "    accuracy = rf_clf.score(X_cancer, y_cancer)\n",
        "    print(f\"Random Forest with {n} trees accuracy: {accuracy:.2f}\")"
      ],
      "metadata": {
        "colab": {
          "base_uri": "https://localhost:8080/"
        },
        "id": "Y1PR8HMD6Q54",
        "outputId": "61e38ca1-d50f-4b25-df7d-40c2331210b2"
      },
      "execution_count": null,
      "outputs": [
        {
          "output_type": "stream",
          "name": "stdout",
          "text": [
            "Random Forest with 10 trees accuracy: 1.00\n",
            "Random Forest with 50 trees accuracy: 1.00\n",
            "Random Forest with 100 trees accuracy: 1.00\n",
            "Random Forest with 200 trees accuracy: 1.00\n"
          ]
        }
      ]
    },
    {
      "cell_type": "markdown",
      "source": [
        "ques 28-**Train a Bagging Classifier using Logistic Regression as a base estimator and print AUC score**"
      ],
      "metadata": {
        "id": "di-1NALN7te7"
      }
    },
    {
      "cell_type": "code",
      "source": [
        "from sklearn.ensemble import BaggingClassifier\n",
        "from sklearn.linear_model import LogisticRegression\n",
        "from sklearn.datasets import load_breast_cancer\n",
        "from sklearn.model_selection import train_test_split\n",
        "from sklearn.metrics import roc_auc_score\n",
        "\n",
        "X, y = load_breast_cancer(return_X_y=True)\n",
        "\n",
        "# Train-test split\n",
        "X_train, X_test, y_train, y_test = train_test_split(X, y, test_size=0.2, random_state=42)\n",
        "\n",
        "# Define Bagging Classifier with Logistic Regression\n",
        "bagging_clf = BaggingClassifier(\n",
        "    estimator=LogisticRegression(solver='liblinear'),  # 'liblinear' works well for small datasets\n",
        "    n_estimators=100,\n",
        "    random_state=42\n",
        ")\n",
        "\n",
        "# Train the model\n",
        "bagging_clf.fit(X_train, y_train)\n",
        "\n",
        "# Predict probabilities\n",
        "y_proba = bagging_clf.predict_proba(X_test)[:, 1]\n",
        "# Calculate AUC Score\n",
        "auc = roc_auc_score(y_test, y_proba)\n",
        "print(f\"AUC Score: {auc:.2f}\")"
      ],
      "metadata": {
        "colab": {
          "base_uri": "https://localhost:8080/"
        },
        "id": "eBiNXVFS78Wr",
        "outputId": "c9671263-203a-40cc-9da9-149457ff6fde"
      },
      "execution_count": null,
      "outputs": [
        {
          "output_type": "stream",
          "name": "stdout",
          "text": [
            "AUC Score: 1.00\n"
          ]
        }
      ]
    },
    {
      "cell_type": "markdown",
      "source": [
        "ques 29-**Train a Random Forest Regressor and analyze feature importance scores2**"
      ],
      "metadata": {
        "id": "NkAR3kl78-0t"
      }
    },
    {
      "cell_type": "code",
      "source": [
        "from sklearn.ensemble import RandomForestRegressor\n",
        "from sklearn.datasets import make_regression\n",
        "X_reg, y_reg = make_regression(n_samples=100, n_features=10, noise=0.1, random_state=42)\n",
        "rf_reg = RandomForestRegressor(n_estimators=100, random_state=42)\n",
        "rf_reg.fit(X_reg, y_reg)\n",
        "feature_importances = rf_reg.feature_importances_\n",
        "print(\"Feature importances:\")\n",
        "for i, score in enumerate(feature_importances):\n",
        "    print(f\"Feature {i}: {score:.4f}\")"
      ],
      "metadata": {
        "colab": {
          "base_uri": "https://localhost:8080/"
        },
        "id": "2vIY28997fpV",
        "outputId": "2da35fc7-3869-47a7-c980-5f8b6d71f6f0"
      },
      "execution_count": null,
      "outputs": [
        {
          "output_type": "stream",
          "name": "stdout",
          "text": [
            "Feature importances:\n",
            "Feature 0: 0.0349\n",
            "Feature 1: 0.0733\n",
            "Feature 2: 0.0139\n",
            "Feature 3: 0.0428\n",
            "Feature 4: 0.1656\n",
            "Feature 5: 0.3336\n",
            "Feature 6: 0.2298\n",
            "Feature 7: 0.0323\n",
            "Feature 8: 0.0167\n",
            "Feature 9: 0.0571\n"
          ]
        }
      ]
    },
    {
      "cell_type": "markdown",
      "source": [
        "ques30-**Train an ensemble model using both Bagging and Random Forest and compare accuracy.**"
      ],
      "metadata": {
        "id": "QFTcoaHIAaRd"
      }
    },
    {
      "cell_type": "code",
      "source": [
        "from sklearn.ensemble import BaggingClassifier, RandomForestClassifier\n",
        "from sklearn.datasets import load_iris\n",
        "X, y = load_iris(return_X_y=True)\n",
        "bagging_clf = BaggingClassifier(estimator=DecisionTreeClassifier(), n_estimators=100, random_state=42)\n",
        "rf_clf = RandomForestClassifier(n_estimators=100, random_state=42)\n",
        "bagging_clf.fit(X, y)\n",
        "rf_clf.fit(X, y)\n",
        "bagging_accuracy = bagging_clf.score(X, y)\n",
        "rf_accuracy = rf_clf.score(X, y)\n",
        "print(f\"Bagging Classifier accuracy: {bagging_accuracy:.2f}\")\n",
        "print(f\"Random Forest Classifier accuracy: {rf_accuracy:.2f}\")"
      ],
      "metadata": {
        "colab": {
          "base_uri": "https://localhost:8080/"
        },
        "id": "2UodCaf39Hvr",
        "outputId": "0d545e96-f7c1-402f-d8fe-adf792e51f29"
      },
      "execution_count": null,
      "outputs": [
        {
          "output_type": "stream",
          "name": "stdout",
          "text": [
            "Bagging Classifier accuracy: 1.00\n",
            "Random Forest Classifier accuracy: 1.00\n"
          ]
        }
      ]
    },
    {
      "cell_type": "markdown",
      "source": [
        "ques 31-**= Train a Random Forest Classifier and tune hyperparameters using GridSearchCV=**"
      ],
      "metadata": {
        "id": "M8nQi0F_AlTz"
      }
    },
    {
      "cell_type": "code",
      "source": [
        "from sklearn.ensemble import RandomForestClassifier\n",
        "from sklearn.model_selection import GridSearchCV\n",
        "from sklearn.datasets import load_iris\n",
        "X, y = load_iris(return_X_y=True)\n",
        "param_grid = {\n",
        "    'n_estimators': [50, 100, 200],\n",
        "    'max_depth': [None, 10, 20],\n",
        "    'min_samples_split': [2, 5, 10],\n",
        "    'min_samples_leaf': [1, 2, 4]\n",
        "}\n",
        "grid_search = GridSearchCV(RandomForestClassifier(random_state=42), param_grid, cv=5, scoring='accuracy')\n",
        "grid_search.fit(X, y)\n",
        "best_params = grid_search.best_params_\n",
        "best_score = grid_search.best_score_\n",
        "print(f\"Best parameters: {best_params}\")\n",
        "print(f\"Best cross-validation score: {best_score:.2f}\")"
      ],
      "metadata": {
        "colab": {
          "base_uri": "https://localhost:8080/"
        },
        "id": "XpUNw5i2Aizb",
        "outputId": "557b195e-7175-4acb-f15e-1c19bba563a2"
      },
      "execution_count": null,
      "outputs": [
        {
          "output_type": "stream",
          "name": "stdout",
          "text": [
            "Best parameters: {'max_depth': None, 'min_samples_leaf': 1, 'min_samples_split': 2, 'n_estimators': 50}\n",
            "Best cross-validation score: 0.97\n"
          ]
        }
      ]
    },
    {
      "cell_type": "markdown",
      "source": [
        "ques 32-**5= Train a Bagging Regressor with different numbers of base estimators and compare performance**"
      ],
      "metadata": {
        "id": "T2qJWJUCBHoK"
      }
    },
    {
      "cell_type": "code",
      "source": [
        "# 32. Train a Bagging Regressor with different numbers of base estimators and compare performance.\n",
        "from sklearn.ensemble import BaggingRegressor\n",
        "from sklearn.datasets import make_regression\n",
        "from sklearn.metrics import mean_squared_error\n",
        "from sklearn.tree import DecisionTreeRegressor\n",
        "\n",
        "X_reg, y_reg = make_regression(n_samples=100, n_features=1, noise=0.1, random_state=42)\n",
        "\n",
        "reg_10 = BaggingRegressor(estimator=DecisionTreeRegressor(), n_estimators=10, random_state=42)\n",
        "reg_10.fit(X_reg, y_reg)\n",
        "mse_10 = mean_squared_error(y_reg, reg_10.predict(X_reg))\n",
        "print(f\"Bagging Regressor with 10 estimators MSE: {mse_10:.4f}\")\n",
        "\n",
        "reg_50 = BaggingRegressor(estimator=DecisionTreeRegressor(), n_estimators=50, random_state=42)\n",
        "reg_50.fit(X_reg, y_reg)\n",
        "mse_50 = mean_squared_error(y_reg, reg_50.predict(X_reg))\n",
        "print(f\"Bagging Regressor with 50 estimators MSE: {mse_50:.4f}\")\n",
        "\n",
        "reg_100 = BaggingRegressor(estimator=DecisionTreeRegressor(), n_estimators=100, random_state=42)\n",
        "reg_100.fit(X_reg, y_reg)\n",
        "mse_100 = mean_squared_error(y_reg, reg_100.predict(X_reg))\n",
        "print(f\"Bagging Regressor with 100 estimators MSE: {mse_100:.4f}\")\n",
        "\n",
        "reg_200 = BaggingRegressor(estimator=DecisionTreeRegressor(), n_estimators=200, random_state=42)\n",
        "reg_200.fit(X_reg, y_reg)\n",
        "mse_200 = mean_squared_error(y_reg, reg_200.predict(X_reg))\n",
        "print(f\"Bagging Regressor with 200 estimators MSE: {mse_200:.4f}\")"
      ],
      "metadata": {
        "colab": {
          "base_uri": "https://localhost:8080/"
        },
        "id": "8W9Fjm5CAwWm",
        "outputId": "2455e75c-e0b0-4638-8489-9c3a46fcd974"
      },
      "execution_count": null,
      "outputs": [
        {
          "output_type": "stream",
          "name": "stdout",
          "text": [
            "Bagging Regressor with 10 estimators MSE: 3.0912\n",
            "Bagging Regressor with 50 estimators MSE: 1.5068\n",
            "Bagging Regressor with 100 estimators MSE: 1.1652\n",
            "Bagging Regressor with 200 estimators MSE: 1.4874\n"
          ]
        }
      ]
    },
    {
      "cell_type": "code",
      "source": [
        "ques 33-**Train a Random Forest Classifier and analyze misclassified samples**"
      ],
      "metadata": {
        "id": "TVR1PN0KBQj7"
      },
      "execution_count": null,
      "outputs": []
    },
    {
      "cell_type": "code",
      "source": [
        "from sklearn.ensemble import RandomForestClassifier\n",
        "from sklearn.datasets import load_iris\n",
        "from sklearn.metrics import confusion_matrix\n",
        "X, y = load_iris(return_X_y=True)\n",
        "rf_clf = RandomForestClassifier(n_estimators=100, random_state=42)\n",
        "rf_clf.fit(X, y)\n",
        "y_pred = rf_clf.predict(X)\n",
        "conf_matrix = confusion_matrix(y, y_pred)\n",
        "print(\"Confusion Matrix:\")\n",
        "print(conf_matrix)"
      ],
      "metadata": {
        "colab": {
          "base_uri": "https://localhost:8080/"
        },
        "id": "iWBVFYdVBYSs",
        "outputId": "7a545d9d-363a-4eb4-8fa3-cd10e6d56296"
      },
      "execution_count": null,
      "outputs": [
        {
          "output_type": "stream",
          "name": "stdout",
          "text": [
            "Confusion Matrix:\n",
            "[[50  0  0]\n",
            " [ 0 50  0]\n",
            " [ 0  0 50]]\n"
          ]
        }
      ]
    },
    {
      "cell_type": "markdown",
      "source": [
        "ques34-**Train a Bagging Classifier and compare its performance with a single Decision Tree Classifier**"
      ],
      "metadata": {
        "id": "K0Sdu7HQBcMq"
      }
    },
    {
      "cell_type": "code",
      "source": [
        "from sklearn.ensemble import BaggingClassifier\n",
        "from sklearn.tree import DecisionTreeClassifier\n",
        "from sklearn.datasets import load_iris\n",
        "X, y = load_iris(return_X_y=True)\n",
        "bagging_clf = BaggingClassifier(estimator=DecisionTreeClassifier(), n_estimators=100, random_state=42)\n",
        "bagging_clf.fit(X, y)\n",
        "accuracy_bagging = bagging_clf.score(X, y)\n",
        "dt_clf = DecisionTreeClassifier(random_state=42)\n",
        "dt_clf.fit(X, y)\n",
        "accuracy_dt = dt_clf.score(X, y)\n",
        "print(f\"Bagging Classifier accuracy: {accuracy_bagging:.2f}\")\n",
        "print(f\"Decision Tree Classifier accuracy: {accuracy_dt:.2f}\")"
      ],
      "metadata": {
        "colab": {
          "base_uri": "https://localhost:8080/"
        },
        "id": "a_6zhv-MBbgT",
        "outputId": "355c1577-a86b-4d2e-8285-36797bb62b5e"
      },
      "execution_count": null,
      "outputs": [
        {
          "output_type": "stream",
          "name": "stdout",
          "text": [
            "Bagging Classifier accuracy: 1.00\n",
            "Decision Tree Classifier accuracy: 1.00\n"
          ]
        }
      ]
    },
    {
      "cell_type": "markdown",
      "source": [
        "ues35-**Train a Random Forest Classifier and visualize the confusion matrix**"
      ],
      "metadata": {
        "id": "zcxEEH8QBpy9"
      }
    },
    {
      "cell_type": "code",
      "source": [
        "import matplotlib.pyplot as plt\n",
        "from sklearn.metrics import ConfusionMatrixDisplay\n",
        "from sklearn.ensemble import RandomForestClassifier\n",
        "from sklearn.datasets import load_iris\n",
        "X, y = load_iris(return_X_y=True)\n",
        "rf_clf = RandomForestClassifier(n_estimators=100, random_state=42)\n",
        "rf_clf.fit(X, y)\n",
        "y_pred = rf_clf.predict(X)\n",
        "conf_matrix = confusion_matrix(y, y_pred)\n",
        "disp = ConfusionMatrixDisplay(confusion_matrix=conf_matrix, display_labels=rf_clf.classes_)\n",
        "disp.plot(cmap=plt.cm.Blues)\n",
        "plt.title(\"Confusion Matrix\")\n",
        "plt.show()"
      ],
      "metadata": {
        "colab": {
          "base_uri": "https://localhost:8080/",
          "height": 472
        },
        "id": "tSegI7uQBmqf",
        "outputId": "c019a70a-b255-4ed3-caeb-54ad43331358"
      },
      "execution_count": null,
      "outputs": [
        {
          "output_type": "display_data",
          "data": {
            "text/plain": [
              "<Figure size 640x480 with 2 Axes>"
            ],
            "image/png": "[encoded data removed]"
          },
          "metadata": {}
        }
      ]
    },
    {
      "cell_type": "markdown",
      "source": [
        "ques 36-**= Train a Stacking Classifier using Decision Trees, SVM, and Logistic Regression, and compare accuracy**"
      ],
      "metadata": {
        "id": "xWVlLPJQT8b6"
      }
    },
    {
      "cell_type": "code",
      "source": [
        "from sklearn.ensemble import StackingClassifier\n",
        "from sklearn.tree import DecisionTreeClassifier\n",
        "from sklearn.svm import SVC\n",
        "from sklearn.linear_model import LogisticRegression\n",
        "from sklearn.datasets import load_iris\n",
        "X, y = load_iris(return_X_y=True)\n",
        "estimators = [\n",
        "    ('dt', DecisionTreeClassifier(random_state=42)),\n",
        "    ('svm', SVC(probability=True, random_state=42)),\n",
        "    ('lr', LogisticRegression(solver='liblinear', random_state=42))\n",
        "]\n",
        "stacking_clf = StackingClassifier(estimators=estimators, final_estimator=LogisticRegression(solver='liblinear', random_state=42))\n",
        "stacking_clf.fit(X, y)\n",
        "accuracy_stacking = stacking_clf.score(X, y)\n",
        "print(f\"Stacking Classifier accuracy: {accuracy_stacking:.2f}\")"
      ],
      "metadata": {
        "colab": {
          "base_uri": "https://localhost:8080/",
          "height": 211
        },
        "id": "EBMZ-m6mURSy",
        "outputId": "fe3eb8dd-c2a1-466a-d737-0e60d5dcde0f"
      },
      "execution_count": 2,
      "outputs": [
        {
          "output_type": "error",
          "ename": "NameError",
          "evalue": "name 'DecisionTreeClassifier' is not defined",
          "traceback": [
            "\u001b[0;31m---------------------------------------------------------------------------\u001b[0m",
            "\u001b[0;31mNameError\u001b[0m                                 Traceback (most recent call last)",
            "\u001b[0;32m/tmp/ipython-input-2-917228951.py\u001b[0m in \u001b[0;36m<cell line: 0>\u001b[0;34m()\u001b[0m\n\u001b[1;32m      5\u001b[0m \u001b[0mX\u001b[0m\u001b[0;34m,\u001b[0m \u001b[0my\u001b[0m \u001b[0;34m=\u001b[0m \u001b[0mload_iris\u001b[0m\u001b[0;34m(\u001b[0m\u001b[0mreturn_X_y\u001b[0m\u001b[0;34m=\u001b[0m\u001b[0;32mTrue\u001b[0m\u001b[0;34m)\u001b[0m\u001b[0;34m\u001b[0m\u001b[0;34m\u001b[0m\u001b[0m\n\u001b[1;32m      6\u001b[0m estimators = [\n\u001b[0;32m----> 7\u001b[0;31m     \u001b[0;34m(\u001b[0m\u001b[0;34m'dt'\u001b[0m\u001b[0;34m,\u001b[0m \u001b[0mDecisionTreeClassifier\u001b[0m\u001b[0;34m(\u001b[0m\u001b[0mrandom_state\u001b[0m\u001b[0;34m=\u001b[0m\u001b[0;36m42\u001b[0m\u001b[0;34m)\u001b[0m\u001b[0;34m)\u001b[0m\u001b[0;34m,\u001b[0m\u001b[0;34m\u001b[0m\u001b[0;34m\u001b[0m\u001b[0m\n\u001b[0m\u001b[1;32m      8\u001b[0m     \u001b[0;34m(\u001b[0m\u001b[0;34m'svm'\u001b[0m\u001b[0;34m,\u001b[0m \u001b[0mSVC\u001b[0m\u001b[0;34m(\u001b[0m\u001b[0mprobability\u001b[0m\u001b[0;34m=\u001b[0m\u001b[0;32mTrue\u001b[0m\u001b[0;34m,\u001b[0m \u001b[0mrandom_state\u001b[0m\u001b[0;34m=\u001b[0m\u001b[0;36m42\u001b[0m\u001b[0;34m)\u001b[0m\u001b[0;34m)\u001b[0m\u001b[0;34m,\u001b[0m\u001b[0;34m\u001b[0m\u001b[0;34m\u001b[0m\u001b[0m\n\u001b[1;32m      9\u001b[0m     \u001b[0;34m(\u001b[0m\u001b[0;34m'lr'\u001b[0m\u001b[0;34m,\u001b[0m \u001b[0mLogisticRegression\u001b[0m\u001b[0;34m(\u001b[0m\u001b[0msolver\u001b[0m\u001b[0;34m=\u001b[0m\u001b[0;34m'liblinear'\u001b[0m\u001b[0;34m,\u001b[0m \u001b[0mrandom_state\u001b[0m\u001b[0;34m=\u001b[0m\u001b[0;36m42\u001b[0m\u001b[0;34m)\u001b[0m\u001b[0;34m)\u001b[0m\u001b[0;34m\u001b[0m\u001b[0;34m\u001b[0m\u001b[0m\n",
            "\u001b[0;31mNameError\u001b[0m: name 'DecisionTreeClassifier' is not defined"
          ]
        }
      ]
    },
    {
      "cell_type": "markdown",
      "source": [
        "ques 37-**= Train a Random Forest Classifier and print the top 5 most important features**"
      ],
      "metadata": {
        "id": "T2UnthBVUFU1"
      }
    },
    {
      "cell_type": "code",
      "source": [
        "from sklearn.ensemble import RandomForestClassifier\n",
        "from sklearn.datasets import load_iris\n",
        "import numpy as np\n",
        "X, y = load_iris(return_X_y=True)\n",
        "rf_clf = RandomForestClassifier(n_estimators=100, random_state=42)\n",
        "rf_clf.fit(X, y)\n",
        "feature_importances = rf_clf.feature_importances_\n",
        "top_indices = np.argsort(feature_importances)[-5:][::-1]\n",
        "print(\"Top 5 most important features:\")\n",
        "for i in top_indices:\n",
        "    print(f\"Feature {i}: {feature_importances[i]:.4f}\")"
      ],
      "metadata": {
        "colab": {
          "base_uri": "https://localhost:8080/"
        },
        "id": "4olVT3KJUEaa",
        "outputId": "39bfa42e-e9bf-4ec9-dc39-2f8e7dc52254"
      },
      "execution_count": 4,
      "outputs": [
        {
          "output_type": "stream",
          "name": "stdout",
          "text": [
            "Top 5 most important features:\n",
            "Feature 2: 0.4361\n",
            "Feature 3: 0.4361\n",
            "Feature 0: 0.1061\n",
            "Feature 1: 0.0217\n"
          ]
        }
      ]
    },
    {
      "cell_type": "markdown",
      "source": [
        "ques 38-**Train a Bagging Classifier and evaluate performance using Precision, Recall, and F1-score**"
      ],
      "metadata": {
        "id": "y5bxAFWQVM8f"
      }
    },
    {
      "cell_type": "code",
      "source": [
        "from sklearn.ensemble import BaggingClassifier\n",
        "from sklearn.metrics import precision_score, recall_score, f1_score\n",
        "from sklearn.datasets import load_iris\n",
        "X, y = load_iris(return_X_y=True)\n",
        "bagging_clf = BaggingClassifier(estimator=DecisionTreeClassifier(), n_estimators=100, random_state=42)\n",
        "bagging_clf.fit(X, y)\n",
        "y_pred = bagging_clf.predict(X)\n",
        "precision = precision_score(y, y_pred, average='weighted')\n",
        "recall = recall_score(y, y_pred, average='weighted')\n",
        "f1 = f1_score(y, y_pred, average='weighted')\n",
        "print(f\"Precision: {precision:.2f}\")\n",
        "print(f\"Recall: {recall:.2f}\")\n",
        "print(f\"F1-score: {f1:.2f}\")"
      ],
      "metadata": {
        "colab": {
          "base_uri": "https://localhost:8080/",
          "height": 211
        },
        "id": "tVLOClgFVVyM",
        "outputId": "09679d48-e9b3-49df-ac21-e928410a8ec6"
      },
      "execution_count": 5,
      "outputs": [
        {
          "output_type": "error",
          "ename": "NameError",
          "evalue": "name 'DecisionTreeClassifier' is not defined",
          "traceback": [
            "\u001b[0;31m---------------------------------------------------------------------------\u001b[0m",
            "\u001b[0;31mNameError\u001b[0m                                 Traceback (most recent call last)",
            "\u001b[0;32m/tmp/ipython-input-5-2721350396.py\u001b[0m in \u001b[0;36m<cell line: 0>\u001b[0;34m()\u001b[0m\n\u001b[1;32m      3\u001b[0m \u001b[0;32mfrom\u001b[0m \u001b[0msklearn\u001b[0m\u001b[0;34m.\u001b[0m\u001b[0mdatasets\u001b[0m \u001b[0;32mimport\u001b[0m \u001b[0mload_iris\u001b[0m\u001b[0;34m\u001b[0m\u001b[0;34m\u001b[0m\u001b[0m\n\u001b[1;32m      4\u001b[0m \u001b[0mX\u001b[0m\u001b[0;34m,\u001b[0m \u001b[0my\u001b[0m \u001b[0;34m=\u001b[0m \u001b[0mload_iris\u001b[0m\u001b[0;34m(\u001b[0m\u001b[0mreturn_X_y\u001b[0m\u001b[0;34m=\u001b[0m\u001b[0;32mTrue\u001b[0m\u001b[0;34m)\u001b[0m\u001b[0;34m\u001b[0m\u001b[0;34m\u001b[0m\u001b[0m\n\u001b[0;32m----> 5\u001b[0;31m \u001b[0mbagging_clf\u001b[0m \u001b[0;34m=\u001b[0m \u001b[0mBaggingClassifier\u001b[0m\u001b[0;34m(\u001b[0m\u001b[0mestimator\u001b[0m\u001b[0;34m=\u001b[0m\u001b[0mDecisionTreeClassifier\u001b[0m\u001b[0;34m(\u001b[0m\u001b[0;34m)\u001b[0m\u001b[0;34m,\u001b[0m \u001b[0mn_estimators\u001b[0m\u001b[0;34m=\u001b[0m\u001b[0;36m100\u001b[0m\u001b[0;34m,\u001b[0m \u001b[0mrandom_state\u001b[0m\u001b[0;34m=\u001b[0m\u001b[0;36m42\u001b[0m\u001b[0;34m)\u001b[0m\u001b[0;34m\u001b[0m\u001b[0;34m\u001b[0m\u001b[0m\n\u001b[0m\u001b[1;32m      6\u001b[0m \u001b[0mbagging_clf\u001b[0m\u001b[0;34m.\u001b[0m\u001b[0mfit\u001b[0m\u001b[0;34m(\u001b[0m\u001b[0mX\u001b[0m\u001b[0;34m,\u001b[0m \u001b[0my\u001b[0m\u001b[0;34m)\u001b[0m\u001b[0;34m\u001b[0m\u001b[0;34m\u001b[0m\u001b[0m\n\u001b[1;32m      7\u001b[0m \u001b[0my_pred\u001b[0m \u001b[0;34m=\u001b[0m \u001b[0mbagging_clf\u001b[0m\u001b[0;34m.\u001b[0m\u001b[0mpredict\u001b[0m\u001b[0;34m(\u001b[0m\u001b[0mX\u001b[0m\u001b[0;34m)\u001b[0m\u001b[0;34m\u001b[0m\u001b[0;34m\u001b[0m\u001b[0m\n",
            "\u001b[0;31mNameError\u001b[0m: name 'DecisionTreeClassifier' is not defined"
          ]
        }
      ]
    },
    {
      "cell_type": "markdown",
      "source": [
        "ques 39-**4= Train a Random Forest Classifier and analyze the effect of max_depth on accuracy=4**"
      ],
      "metadata": {
        "id": "qlIhpMr3VkGz"
      }
    },
    {
      "cell_type": "code",
      "source": [
        "from sklearn.ensemble import RandomForestClassifier\n",
        "from sklearn.datasets import load_iris\n",
        "X, y = load_iris(return_X_y=True)\n",
        "max_depths = [None, 5, 10, 15]\n",
        "for max_depth in max_depths:\n",
        "    rf_clf = RandomForestClassifier(n_estimators=100, max_depth=max_depth, random_state=42)\n",
        "    rf_clf.fit(X, y)\n",
        "    accuracy = rf_clf.score(X, y)\n",
        "    print(f\"Random Forest with max_depth={max_depth} accuracy: {accuracy:.2f}\")"
      ],
      "metadata": {
        "id": "c_73-Di8VWeN"
      },
      "execution_count": null,
      "outputs": []
    },
    {
      "cell_type": "code",
      "source": [
        "ques 40-**Train a Bagging Regressor using different base estimators (DecisionTree and KNeighbors) and compare\n",
        "performance**"
      ],
      "metadata": {
        "id": "89Ls_DK0Vr5U"
      },
      "execution_count": null,
      "outputs": []
    },
    {
      "cell_type": "code",
      "source": [
        "from sklearn.ensemble import BaggingRegressor\n",
        "from sklearn.tree import DecisionTreeRegressor\n",
        "from sklearn.neighbors import KNeighborsRegressor\n",
        "from sklearn.datasets import make_regression\n",
        "X_reg, y_reg = make_regression(n_samples=100, n_features=1, noise=0.1, random_state=42)\n",
        "# Bagging with Decision Tree\n",
        "bagging_dt = BaggingRegressor(estimator=DecisionTreeRegressor(), n_estimators=100, random_state=42)\n",
        "bagging_dt.fit(X_reg, y_reg)\n",
        "y_pred_dt = bagging_dt.predict(X_reg)\n",
        "mse_dt = mean_squared_error(y_reg, y_pred_dt)\n",
        "# Bagging with KNeighbors\n",
        "bagging_knn = BaggingRegressor(estimator=KNeighborsRegressor(), n_estimators=100, random_state=42)\n",
        "bagging_knn.fit(X_reg, y_reg)\n",
        "y_pred_knn = bagging_knn.predict(X_reg)\n",
        "mse_knn = mean_squared_error(y_reg, y_pred_knn)\n",
        "print(f\"Bagging Regressor with Decision Tree MSE: {mse_dt:.2f}\")\n",
        "print(f\"Bagging Regressor with KNeighbors MSE: {mse_knn:.2f}\")\n"
      ],
      "metadata": {
        "colab": {
          "base_uri": "https://localhost:8080/",
          "height": 211
        },
        "id": "jEckqGn6V3au",
        "outputId": "7d918e1a-fe94-4083-a420-f200cc7e4caa"
      },
      "execution_count": 7,
      "outputs": [
        {
          "output_type": "error",
          "ename": "NameError",
          "evalue": "name 'mean_squared_error' is not defined",
          "traceback": [
            "\u001b[0;31m---------------------------------------------------------------------------\u001b[0m",
            "\u001b[0;31mNameError\u001b[0m                                 Traceback (most recent call last)",
            "\u001b[0;32m/tmp/ipython-input-7-1952654028.py\u001b[0m in \u001b[0;36m<cell line: 0>\u001b[0;34m()\u001b[0m\n\u001b[1;32m      8\u001b[0m \u001b[0mbagging_dt\u001b[0m\u001b[0;34m.\u001b[0m\u001b[0mfit\u001b[0m\u001b[0;34m(\u001b[0m\u001b[0mX_reg\u001b[0m\u001b[0;34m,\u001b[0m \u001b[0my_reg\u001b[0m\u001b[0;34m)\u001b[0m\u001b[0;34m\u001b[0m\u001b[0;34m\u001b[0m\u001b[0m\n\u001b[1;32m      9\u001b[0m \u001b[0my_pred_dt\u001b[0m \u001b[0;34m=\u001b[0m \u001b[0mbagging_dt\u001b[0m\u001b[0;34m.\u001b[0m\u001b[0mpredict\u001b[0m\u001b[0;34m(\u001b[0m\u001b[0mX_reg\u001b[0m\u001b[0;34m)\u001b[0m\u001b[0;34m\u001b[0m\u001b[0;34m\u001b[0m\u001b[0m\n\u001b[0;32m---> 10\u001b[0;31m \u001b[0mmse_dt\u001b[0m \u001b[0;34m=\u001b[0m \u001b[0mmean_squared_error\u001b[0m\u001b[0;34m(\u001b[0m\u001b[0my_reg\u001b[0m\u001b[0;34m,\u001b[0m \u001b[0my_pred_dt\u001b[0m\u001b[0;34m)\u001b[0m\u001b[0;34m\u001b[0m\u001b[0;34m\u001b[0m\u001b[0m\n\u001b[0m\u001b[1;32m     11\u001b[0m \u001b[0;31m# Bagging with KNeighbors\u001b[0m\u001b[0;34m\u001b[0m\u001b[0;34m\u001b[0m\u001b[0m\n\u001b[1;32m     12\u001b[0m \u001b[0mbagging_knn\u001b[0m \u001b[0;34m=\u001b[0m \u001b[0mBaggingRegressor\u001b[0m\u001b[0;34m(\u001b[0m\u001b[0mestimator\u001b[0m\u001b[0;34m=\u001b[0m\u001b[0mKNeighborsRegressor\u001b[0m\u001b[0;34m(\u001b[0m\u001b[0;34m)\u001b[0m\u001b[0;34m,\u001b[0m \u001b[0mn_estimators\u001b[0m\u001b[0;34m=\u001b[0m\u001b[0;36m100\u001b[0m\u001b[0;34m,\u001b[0m \u001b[0mrandom_state\u001b[0m\u001b[0;34m=\u001b[0m\u001b[0;36m42\u001b[0m\u001b[0;34m)\u001b[0m\u001b[0;34m\u001b[0m\u001b[0;34m\u001b[0m\u001b[0m\n",
            "\u001b[0;31mNameError\u001b[0m: name 'mean_squared_error' is not defined"
          ]
        }
      ]
    },
    {
      "cell_type": "markdown",
      "source": [
        "ques 41-**Train a Random Forest Classifier and evaluate its performance using ROC-AUC Score**"
      ],
      "metadata": {
        "id": "qNlez7nUV_6R"
      }
    },
    {
      "cell_type": "code",
      "source": [
        "from sklearn.ensemble import RandomForestClassifier\n",
        "from sklearn.datasets import load_iris\n",
        "from sklearn.metrics import roc_auc_score\n",
        "\n",
        "X, y = load_iris(return_X_y=True)\n",
        "\n",
        "\n",
        "rf_clf = RandomForestClassifier(n_estimators=100, random_state=42)\n",
        "\n",
        "rf_clf.fit(X, y)\n",
        "y_proba = rf_clf.predict_proba(X)\n",
        "\n",
        "roc_auc = roc_auc_score(y, y_proba, multi_class='ovr')\n",
        "print(f\"ROC-AUC Score (OVR): {roc_auc:.2f}\")"
      ],
      "metadata": {
        "colab": {
          "base_uri": "https://localhost:8080/"
        },
        "id": "IkuEelkcWFvv",
        "outputId": "b04af18f-b989-43e9-ca7f-d670f9322f87"
      },
      "execution_count": 12,
      "outputs": [
        {
          "output_type": "stream",
          "name": "stdout",
          "text": [
            "ROC-AUC Score (OVR): 1.00\n"
          ]
        }
      ]
    },
    {
      "cell_type": "markdown",
      "source": [
        "ques 42-**Train a Bagging Classifier and evaluate its performance using cross-validatio**"
      ],
      "metadata": {
        "id": "31T970uAWaIo"
      }
    },
    {
      "cell_type": "code",
      "source": [
        "from sklearn.ensemble import BaggingClassifier\n",
        "from sklearn.model_selection import cross_val_score\n",
        "from sklearn.datasets import load_iris\n",
        "X, y = load_iris(return_X_y=True)\n",
        "bagging_clf = BaggingClassifier(n_estimators=100, random_state=42)\n",
        "cross_val_scores = cross_val_score(bagging_clf, X, y, cv=5)\n",
        "print(f\"Bagging Classifier Cross-Validation Scores: {cross_val_scores}\")"
      ],
      "metadata": {
        "colab": {
          "base_uri": "https://localhost:8080/"
        },
        "id": "hy-pKo_gV7vk",
        "outputId": "824bf0c8-c578-40a3-f8fb-b334504234ab"
      },
      "execution_count": 8,
      "outputs": [
        {
          "output_type": "stream",
          "name": "stdout",
          "text": [
            "Bagging Classifier Cross-Validation Scores: [0.96666667 0.96666667 0.9        0.96666667 1.        ]\n"
          ]
        }
      ]
    },
    {
      "cell_type": "markdown",
      "source": [
        "ques 43-**= Train a Random Forest Classifier and plot the Precision-Recall curv**"
      ],
      "metadata": {
        "id": "xEMLctcxWlHw"
      }
    },
    {
      "cell_type": "code",
      "source": [
        "from sklearn.ensemble import RandomForestClassifier\n",
        "from sklearn.datasets import load_iris\n",
        "from sklearn.metrics import precision_recall_curve\n",
        "import matplotlib.pyplot as plt\n",
        "\n",
        "# Load data\n",
        "X, y = load_iris(return_X_y=True)\n",
        "\n",
        "# Convert to binary classification: class 1 vs rest\n",
        "y_binary = (y == 1).astype(int)  # Class 1 as positive, others as negative\n",
        "\n",
        "# Train model\n",
        "rf_clf = RandomForestClassifier(n_estimators=100, random_state=42)\n",
        "rf_clf.fit(X, y_binary)\n",
        "\n",
        "# Predict probabilities for positive class (1)\n",
        "y_proba = rf_clf.predict_proba(X)[:, 1]\n",
        "\n",
        "# Precision-Recall\n",
        "precision, recall, _ = precision_recall_curve(y_binary, y_proba)\n",
        "\n",
        "# Plot\n",
        "plt.plot(recall, precision, marker='.')\n",
        "plt.xlabel('Recall')\n",
        "plt.ylabel('Precision')\n",
        "plt.title('Precision-Recall Curve (Class 1 vs Rest)')\n",
        "plt.grid(True)\n",
        "plt.show()\n"
      ],
      "metadata": {
        "colab": {
          "base_uri": "https://localhost:8080/",
          "height": 472
        },
        "id": "gl-bSXlNWkSW",
        "outputId": "e41f1b55-8602-43b3-e759-b16fb355c615"
      },
      "execution_count": 9,
      "outputs": [
        {
          "output_type": "display_data",
          "data": {
            "text/plain": [
              "<Figure size 640x480 with 1 Axes>"
            ],
            "image/png": "[encoded data removed]"
          },
          "metadata": {}
        }
      ]
    },
    {
      "cell_type": "markdown",
      "source": [
        "ques 44-**Train a Stacking Classifier with Random Forest and Logistic Regression and compare accuracy**"
      ],
      "metadata": {
        "id": "6UVj-jJ7Wuws"
      }
    },
    {
      "cell_type": "code",
      "source": [
        "from sklearn.ensemble import StackingClassifier\n",
        "from sklearn.linear_model import LogisticRegression\n",
        "from sklearn.datasets import load_iris\n",
        "X, y = load_iris(return_X_y=True)\n",
        "estimators = [\n",
        "    ('rf', RandomForestClassifier(n_estimators=100, random_state=42)),\n",
        "    ('lr', LogisticRegression(solver='liblinear', random_state=42))\n",
        "]\n",
        "stacking_clf = StackingClassifier(estimators=estimators, final_estimator=LogisticRegression(solver='liblinear', random_state=42))\n",
        "stacking_clf.fit(X, y)\n",
        "accuracy_stacking = stacking_clf.score(X, y)\n",
        "print(f\"Stacking Classifier accuracy: {accuracy_stacking:.2f}\")"
      ],
      "metadata": {
        "colab": {
          "base_uri": "https://localhost:8080/"
        },
        "id": "-f3lTr5aWuPH",
        "outputId": "6fad01c4-14cf-4cc5-8f79-fd779552b8f1"
      },
      "execution_count": 10,
      "outputs": [
        {
          "output_type": "stream",
          "name": "stdout",
          "text": [
            "Stacking Classifier accuracy: 0.99\n"
          ]
        }
      ]
    },
    {
      "cell_type": "markdown",
      "source": [
        "ques 45-**Train a Bagging Regressor with different levels of bootstrap samples and compare performance**"
      ],
      "metadata": {
        "id": "QGkk1vgqW3a6"
      }
    },
    {
      "cell_type": "code",
      "source": [
        "from sklearn.ensemble import BaggingRegressor\n",
        "from sklearn.datasets import make_regression\n",
        "from sklearn.metrics import mean_squared_error\n",
        "X_reg, y_reg = make_regression(n_samples=100, n_features=1, noise=0.1, random_state=42)\n",
        "bootstrap_samples = [True, False]\n",
        "for bootstrap in bootstrap_samples:\n",
        "    bagging_reg = BaggingRegressor(n_estimators=100, bootstrap=bootstrap, random_state=42)\n",
        "    bagging_reg.fit(X_reg, y_reg)\n",
        "    y_pred = bagging_reg.predict(X_reg)\n",
        "    mse = mean_squared_error(y_reg, y_pred)\n",
        "    print(f\"Bagging Regressor with bootstrap={bootstrap} MSE: {mse:.2f}\")"
      ],
      "metadata": {
        "colab": {
          "base_uri": "https://localhost:8080/"
        },
        "id": "2GSZIT5eW2eK",
        "outputId": "b800922f-b16e-4855-94b5-fccbb05b8f8c"
      },
      "execution_count": 11,
      "outputs": [
        {
          "output_type": "stream",
          "name": "stdout",
          "text": [
            "Bagging Regressor with bootstrap=True MSE: 1.17\n",
            "Bagging Regressor with bootstrap=False MSE: 0.00\n"
          ]
        }
      ]
    },
    {
      "cell_type": "code",
      "source": [],
      "metadata": {
        "id": "Asgm2e46W-dY"
      },
      "execution_count": null,
      "outputs": []
    }
  ]
}